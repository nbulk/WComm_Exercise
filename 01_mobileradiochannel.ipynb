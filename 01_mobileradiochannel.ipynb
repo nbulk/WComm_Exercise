{
 "cells": [
  {
   "cell_type": "code",
   "execution_count": 14,
   "metadata": {},
   "outputs": [
    {
     "name": "stdout",
     "output_type": "stream",
     "text": [
      "Requirement already satisfied: numpy in /usr/lib/python3/dist-packages (1.17.4)\n",
      "Requirement already satisfied: matplotlib in /usr/lib/python3/dist-packages (3.1.2)\n",
      "Requirement already satisfied: scipy in /usr/lib/python3/dist-packages (1.3.3)\n"
     ]
    }
   ],
   "source": [
    "! pip install numpy\n",
    "! pip install matplotlib\n",
    "! pip install scipy\n",
    "\n",
    "import numpy as np\n",
    "import matplotlib.pyplot as plt\n",
    "import scipy.constants as const\n",
    "import scipy.special\n",
    "\n",
    "np.set_printoptions(suppress=True)"
   ]
  },
  {
   "cell_type": "markdown",
   "metadata": {},
   "source": [
    "# Mobile Radio Channels"
   ]
  },
  {
   "cell_type": "markdown",
   "metadata": {},
   "source": [
    "## Exercise 1: Mobile Radio Channel\n",
    "\n",
    "Four reflected radio signals are received by a car driving with a velocity of $v=100 km/h$ as shown in the figure below. The relative delays of the signals can be neglected. The reflection coefficients $r_0,r_1,r_2,r_3$ are to be taken from the figure below. The carrier frequency is $1 GHz$.\n",
    "\n",
    "Speed of light $c_0 \\approx 3 \\cdot 10^8 m/s$"
   ]
  },
  {
   "cell_type": "markdown",
   "metadata": {},
   "source": [
    "### a) Calculate the Doppler shift of the four signals."
   ]
  },
  {
   "cell_type": "code",
   "execution_count": 15,
   "metadata": {},
   "outputs": [
    {
     "name": "stdout",
     "output_type": "stream",
     "text": [
      "[ 92.65669311   0.          80.24305006 -80.24305006]\n"
     ]
    }
   ],
   "source": [
    "fc = 1* 10**9\n",
    "v_kmh = 100\n",
    "c0 = const.c\n",
    "\n",
    "v_ms = 100/3.6\n",
    "\n",
    "alpha = np.array([0, 90, 30, 210])\n",
    "\n",
    "alpha_rad = np.deg2rad(alpha)\n",
    "\n",
    "fd = fc*v_ms/c0*np.cos(alpha_rad)\n",
    "print(fd)"
   ]
  },
  {
   "cell_type": "markdown",
   "metadata": {},
   "source": [
    "### b) Sketch the complete spectrum of the received signal in case of a non-modulated signal."
   ]
  },
  {
   "cell_type": "code",
   "execution_count": 16,
   "metadata": {},
   "outputs": [
    {
     "name": "stderr",
     "output_type": "stream",
     "text": [
      "<ipython-input-16-59adb0792acb>:3: UserWarning: In Matplotlib 3.3 individual lines on a stem plot will be added as a LineCollection instead of individual lines. This significantly improves the performance of a stem plot. To remove this warning and switch to the new behaviour, set the \"use_line_collection\" keyword argument to True.\n",
      "  plt.stem(fd, r)\n"
     ]
    },
    {
     "data": {
      "image/png": "[encoded data removed]",
      "text/plain": [
       "<Figure size 432x288 with 1 Axes>"
      ]
     },
     "metadata": {
      "needs_background": "light"
     },
     "output_type": "display_data"
    }
   ],
   "source": [
    "r = np.array([1,0.5,0.8,0.4])\n",
    "\n",
    "plt.stem(fd, r)\n",
    "plt.xlim(-100,100)\n",
    "plt.grid(True)"
   ]
  },
  {
   "cell_type": "markdown",
   "metadata": {},
   "source": [
    "## Excersice 2: Mobile Radio Channel\n",
    "\n",
    "Three reflected radio signals are received by a car driving with a velocity of $v=100 km/h$, as shown in the figure below. The relative delay of the signals can be neglected at first and the carrier frequency is $f_0=2$ GHz. The reflection coefficients $r_0,r_1,r_2$ are given in the figure below.\n",
    "\n",
    "Speed of light $c_0 \\approx 3 \\cdot 10^8 m/s$"
   ]
  },
  {
   "cell_type": "markdown",
   "metadata": {},
   "source": [
    "### a) Calculate the Doppler frequencies $f_{D,\\nu}$ of the three signals."
   ]
  },
  {
   "cell_type": "code",
   "execution_count": 17,
   "metadata": {},
   "outputs": [
    {
     "name": "stdout",
     "output_type": "stream",
     "text": [
      "[ 185.31338622    0.         -151.79983916]\n"
     ]
    }
   ],
   "source": [
    "fc = 2*10**9\n",
    "c0 = const.c\n",
    "v_kmh = 100\n",
    "\n",
    "v_ms = v_kmh/3.6\n",
    "\n",
    "alpha = np.array([0,90,215])\n",
    "alpha_rad = np.deg2rad(alpha)\n",
    "\n",
    "fd = fc*v_ms/c0*np.cos(alpha_rad)\n",
    "print(fd)"
   ]
  },
  {
   "cell_type": "markdown",
   "metadata": {},
   "source": [
    "### b) Sketch the complete spectrum of the received signal in case of an unmodulated signal."
   ]
  },
  {
   "cell_type": "code",
   "execution_count": 18,
   "metadata": {},
   "outputs": [
    {
     "name": "stderr",
     "output_type": "stream",
     "text": [
      "<ipython-input-18-4d465da7540b>:4: UserWarning: In Matplotlib 3.3 individual lines on a stem plot will be added as a LineCollection instead of individual lines. This significantly improves the performance of a stem plot. To remove this warning and switch to the new behaviour, set the \"use_line_collection\" keyword argument to True.\n",
      "  plt.stem(fd, r)\n"
     ]
    },
    {
     "data": {
      "image/png": "[encoded data removed]",
      "text/plain": [
       "<Figure size 432x288 with 1 Axes>"
      ]
     },
     "metadata": {
      "needs_background": "light"
     },
     "output_type": "display_data"
    }
   ],
   "source": [
    "r = np.array([1,0.6,0.3])\n",
    "\n",
    "\n",
    "plt.stem(fd, r)\n",
    "plt.xlim(-200,200)\n",
    "plt.grid(True)"
   ]
  },
  {
   "cell_type": "markdown",
   "metadata": {},
   "source": [
    "### c) Sketch the impulse response $h_K\\!\\left(t\\right)$ of the multipath channel.\n",
    "Now, the velocity of the car is $v=0$ km/h, so that no Doppler effect occurs. The reflected path components with reflection coefficients $r_1$ and $r_2$ have relative delays $\\tau_1,\\tau_2$, with $\\tau_2>\\tau_1$, with respect to the direct path ($\\tau_0 = 0$), with coefficient $r_0$."
   ]
  },
  {
   "cell_type": "code",
   "execution_count": 19,
   "metadata": {},
   "outputs": [
    {
     "name": "stderr",
     "output_type": "stream",
     "text": [
      "<ipython-input-19-693f49c13890>:4: UserWarning: In Matplotlib 3.3 individual lines on a stem plot will be added as a LineCollection instead of individual lines. This significantly improves the performance of a stem plot. To remove this warning and switch to the new behaviour, set the \"use_line_collection\" keyword argument to True.\n",
      "  plt.stem(tau, r)\n"
     ]
    },
    {
     "data": {
      "image/png": "[encoded data removed]",
      "text/plain": [
       "<Figure size 432x288 with 1 Axes>"
      ]
     },
     "metadata": {
      "needs_background": "light"
     },
     "output_type": "display_data"
    }
   ],
   "source": [
    "tau = np.array([0,1,2])\n",
    "r = np.array([0,0.5,1])\n",
    "\n",
    "plt.stem(tau, r)\n",
    "plt.grid(True)"
   ]
  },
  {
   "cell_type": "markdown",
   "metadata": {},
   "source": [
    "### d) Give the expression for the impulse response and calculate the channel transfer function $H_K\\!\\left(j\\omega\\right)$ of the multipath channel."
   ]
  },
  {
   "cell_type": "markdown",
   "metadata": {},
   "source": [
    "$$h_K\\!\\left(t\\right)=\\sum\\limits_{\\nu=0}^{n}\\rho_\\nu\\cdot\\delta\\left(t-\\tau_\\nu\\right)=\\delta\\left(t\\right)+r_1\\cdot\\delta\\left(t-\\tau_1\\right)+r_2\\cdot\\delta\\left(t-\\tau_2\\right)$$\n",
    "$$H_K\\!\\left(j\\omega\\right)=\\sum\\limits_{\\nu=0}^{n}\\rho_\\nu\\cdot \\mathrm{exp}\\left(-j\\omega \\tau_\\nu\\right)=1+r_1\\cdot\\mathrm{exp}\\left(-j2\\pi f \\tau_1\\right)+r_2\\cdot\\mathrm{exp}\\left(-j2\\pi f \\tau_2\\right)$$"
   ]
  },
  {
   "cell_type": "markdown",
   "metadata": {},
   "source": [
    "### e) At the receiver the received signal is filtered with an ideal bandpass  $H_\\text{BP}\\!\\left(j\\omega\\right)$ with center frequency $f_0$ and bandwidth $B$. Calculate the equivalent lowpass description $H_\\text{TP}\\!\\left(j\\omega\\right)$ of the overall transfer function $H_\\text{TP}\\!\\left(j\\omega\\right)=H_K\\!\\left(j\\omega\\right)\\cdot H_\\text{BP}\\!\\left(j\\omega\\right)$."
   ]
  },
  {
   "cell_type": "markdown",
   "metadata": {},
   "source": [
    "$H_\\text{TP}(j\\omega)=H_K(j(\\omega+\\omega_0)),\\,|f|<B/2$ <br>\n",
    "$$   H_\\text{TP}\\!\\left(j\\omega\\right)=\n",
    "   \\begin{cases}\n",
    "    \\left[1+ r_1\\cdot\\mathrm{e}^{-j(\\omega+\\omega_0)\\tau_1}+ r_2\\cdot\\mathrm{e}^{-j(\\omega+\\omega_0)\\tau_2}\\right]& \\quad \\text{for}\\quad -\\frac{B}{2}\\leq f\\leq\\frac{B}{2}\\\\\n",
    "    0 & \\quad \\text{otherwise}\n",
    "   \\end{cases}"
   ]
  },
  {
   "cell_type": "markdown",
   "metadata": {},
   "source": [
    "### f)  Illustrate the impact of the echos on the absolute transfer function $\\left|H_\\text{TP}\\!\\left(j\\omega\\right)\\right|$. \n",
    "(Short explanation please!)."
   ]
  },
  {
   "cell_type": "markdown",
   "metadata": {},
   "source": [
    "L = 1 $|H_{LP}| = $ const. <br>\n",
    "L > 1 $|H_{LP}| = $ not const. channel is frequency selective"
   ]
  },
  {
   "cell_type": "markdown",
   "metadata": {},
   "source": [
    "## Exercise 3: Mobile Radio Channel \n",
    "A mobile radio channel scenario is given in the figure below."
   ]
  },
  {
   "cell_type": "markdown",
   "metadata": {},
   "source": [
    "### a) Determine the impulse response of the equivalent low-pass channel for a stationary vehicle. The carrier frequency is $f_0=1$~GHz.\n",
    "Speed of light $c_0=3\\cdot10^8$ m/s\n",
    "\n",
    "$$a = 45$$\n",
    "$$\\ell_0 = 600$$\n",
    "$$\\ell_1 = 1400$$\n",
    "$$\\rho_0 = 1$$\n",
    "$$\\rho_1 = 0.5$$"
   ]
  },
  {
   "cell_type": "markdown",
   "metadata": {},
   "source": [
    "Delays: $t_v = \\dfrac{\\ell_v}{c_0}$\n",
    "Relative Delays: $\\tau_v = t_v - t_0$\n",
    "\n",
    "$\\rightarrow \\tau_0 = 0$ <br>\n",
    "$\\tau_1 = t_1 - t_0 =\\dfrac{\\ell_1-\\ell_0}{c_0}$"
   ]
  },
  {
   "cell_type": "code",
   "execution_count": 20,
   "metadata": {},
   "outputs": [
    {
     "name": "stdout",
     "output_type": "stream",
     "text": [
      "2.6685127615852163e-06\n"
     ]
    }
   ],
   "source": [
    "f0 = 1*10**9\n",
    "c0 = const.c\n",
    "\n",
    "r0 = 1\n",
    "r1 = 0.5\n",
    "l0 = 600\n",
    "l1 = 1400\n",
    "alpha = np.array([0,45])\n",
    "alpha_rad = np.deg2rad(alpha)\n",
    "\n",
    "tau1 = (l1-l0)/c0\n",
    "print(tau1)"
   ]
  },
  {
   "cell_type": "markdown",
   "metadata": {},
   "source": [
    "Normilized LP impulse repsonse:\n",
    "$$ h_{LP}(t) = \\sum_v r_V\\delta(t-\\tau_v)$$\n",
    "\n",
    "$$ r_v = \\dfrac{\\rho_v}{\\rho_0}e^{(-j\\omega_o\\tau_v)}$$\n",
    "\n",
    "$\\rightarrow r_0 = 1$ per definition\n",
    "$$ r_1 = 0.5 \\cdot e^{(-j\\omega_o\\tau_1)} $$\n",
    "\n",
    "$$ h_{LP}(t) = 1\\cdot \\delta(t) + 0.5 \\cdot \\delta(t-\\tau_1) \\cdot e^{(-j\\omega_o\\tau_1)} $$\n",
    "\n"
   ]
  },
  {
   "cell_type": "markdown",
   "metadata": {},
   "source": [
    "### b) Determine the channel transfer function of the equivalent low-pass channel. Determine the minimum and the maximum of its absolute value and the corresponding frequencies. Sketch the absolute value of the transfer function."
   ]
  },
  {
   "cell_type": "markdown",
   "metadata": {},
   "source": [
    "Written on the board"
   ]
  },
  {
   "cell_type": "markdown",
   "metadata": {},
   "source": [
    "### c) Now the vehicle has a speed of $v=150$ km/h. Give an expression for the received equivalent low-pass signal $r(t)$ for an arbitrary transmitted low-pass signal $s(t)$."
   ]
  },
  {
   "cell_type": "code",
   "execution_count": 21,
   "metadata": {},
   "outputs": [
    {
     "name": "stdout",
     "output_type": "stream",
     "text": [
      "[138.98503967  98.27726403]\n"
     ]
    }
   ],
   "source": [
    "v_kmh= 150\n",
    "v_ms = v_kmh/3.6\n",
    "\n",
    "fd = f0 * v_ms/c0*np.cos(alpha_rad)\n",
    "print(fd)\n"
   ]
  },
  {
   "cell_type": "markdown",
   "metadata": {},
   "source": [
    "$$r(t)=s(t-\\tau_0)\\cdot\\mathrm{exp}\\left(-j2\\pi\\,f_{Dmax}\\cdot \\tau_0\\right)+0.5 \\cdot s(t-\\tau_1)\\cdot\\mathrm{exp}\\left(-j2\\pi\\,\\left(0.\\overline{6} + \\frac{1}{\\sqrt{2}}\\cdot f_{Dmax}\\cdot \\tau_1\\right)\\right)$$"
   ]
  },
  {
   "cell_type": "markdown",
   "metadata": {},
   "source": [
    "## Excerise 4: Mobile Radio Channel BER\n",
    "\n",
    " Consider a BPSK data transmission, with $d(i)\\in\\{-1,1\\}$, over a flat channel with the time-variant channel coefficient $h(k)$\n",
    " $$y(k)=h(k)\\cdot d(k)+n(k)\\,.$$\n",
    " The symbol duration is $T_\\text{Baud}=50\\text{ns}$, and the signal-to-noise power ratio is $\\frac{E_b}{N_0}=\\frac{\\text E\\{|d(k)|^2\\}}{\\text E\\{|n(k)|^2\\}}=7\\text{dB}$. The channel $h(k)$ can assume three states, which are characterized by the channel coefficients\n",
    " $$h_1=0.5\\cdot \\exp(j\\pi/4),\\qquad h_2=0.8\\cdot\\exp(j\\pi/6),\\qquad h_3=0.1+j0.2\\,.$$\n",
    " Furthermore, the states are characterized by an average probability of occurence $P_\\ell=\\text{Pr}\\{h(k)=h_\\ell\\}$ with $P_1+P_2+P_3=1$.\n",
    "\n",
    " Assume perfect channel state information and coherent detection at the receiver.\\\\\n",
    " Use the graphic below to solve the following problems."
   ]
  },
  {
   "cell_type": "markdown",
   "metadata": {},
   "source": [
    "### a) Determine the average bit error probability for uniformly distributed states,$P_1=P_2=P_3$."
   ]
  },
  {
   "cell_type": "code",
   "execution_count": 22,
   "metadata": {},
   "outputs": [
    {
     "name": "stdout",
     "output_type": "stream",
     "text": [
      "Absoulte H:  [0.5       0.8       0.2236068]\n",
      "Bit error rate:  [0.05670903 0.00565739 0.23948946]\n",
      "Average bit error rate:  0.10061862914508328\n"
     ]
    }
   ],
   "source": [
    "T_baud = 50 *10**-9\n",
    "Eb_N0_db = 7\n",
    "\n",
    "Eb_N0_lin = 10**(Eb_N0_db/10)\n",
    "\n",
    "h1 = 0.5*np.exp(1j* np.pi/4)\n",
    "h2 = 0.8*np.exp(1j* np.pi/6)\n",
    "h3 = 0.1+0.2j\n",
    "\n",
    "h = np.array([h1,h2, h3])\n",
    "print(\"Absoulte H: \", abs(h))\n",
    "\n",
    "pb = 0.5*scipy.special.erfc(np.sqrt(abs(h)**2*Eb_N0_lin))\n",
    "print(\"Bit error rate: \", pb)\n",
    "\n",
    "p = 1/3*(pb[0]+pb[1]+pb[2])\n",
    "p = np.mean(pb)\n",
    "print(\"Average bit error rate: \", p)\n"
   ]
  },
  {
   "cell_type": "markdown",
   "metadata": {},
   "source": [
    "### b) Determine the average bit error probability for the following probabilities of occurence:\n",
    "  $$P_1=0.6,\\qquad P_2=0.3, \\qquad P_3=0.1.$$"
   ]
  },
  {
   "cell_type": "code",
   "execution_count": 23,
   "metadata": {},
   "outputs": [
    {
     "name": "stdout",
     "output_type": "stream",
     "text": [
      "Average bit error rate:  0.059671583935262604\n"
     ]
    }
   ],
   "source": [
    "p1 = 0.6\n",
    "p2 = 0.3\n",
    "p3 = 0.1\n",
    "\n",
    "p = p1*pb[0]+p2*pb[1]+p3*pb[2]\n",
    "print(\"Average bit error rate: \", p)"
   ]
  },
  {
   "cell_type": "markdown",
   "metadata": {},
   "source": [
    "### c) Asumme perfect channel state information at the transmitter. What is the resulting bit error probability, if the transmitter transmits only during the strongest channel coefficient?"
   ]
  },
  {
   "cell_type": "code",
   "execution_count": 24,
   "metadata": {},
   "outputs": [
    {
     "name": "stdout",
     "output_type": "stream",
     "text": [
      "The stongest channel: h [2]\n",
      "Bit error probability:  [0.00565739]\n"
     ]
    }
   ],
   "source": [
    "result = np.where(abs(h) == max(abs(h)))[0]\n",
    "\n",
    "print(\"The stongest channel: h\",result+1 )\n",
    "print(\"Bit error probability: \", pb[result])"
   ]
  },
  {
   "cell_type": "markdown",
   "metadata": {},
   "source": [
    "### d) Determie the average bit rate for part c)."
   ]
  },
  {
   "cell_type": "code",
   "execution_count": 25,
   "metadata": {},
   "outputs": [
    {
     "name": "stdout",
     "output_type": "stream",
     "text": [
      "Data Rate:  20000000.0\n"
     ]
    }
   ],
   "source": [
    "M = 2 #BPSK\n",
    "\n",
    "R = 1*np.log2(M)/T_baud\n",
    "print(\"Data Rate: \", R)\n"
   ]
  },
  {
   "cell_type": "markdown",
   "metadata": {},
   "source": [
    "When Channel is used for a 1/3 of the time:"
   ]
  },
  {
   "cell_type": "code",
   "execution_count": 26,
   "metadata": {},
   "outputs": [
    {
     "name": "stdout",
     "output_type": "stream",
     "text": [
      "Ave Data Rate : 6666666.666666666\n"
     ]
    }
   ],
   "source": [
    "R_bar = 1/3 * R\n",
    "print(\"Ave Data Rate :\", R_bar)"
   ]
  },
  {
   "cell_type": "markdown",
   "metadata": {},
   "source": [
    "## Exercise 5: Diversity\n",
    "Will be calculated on the board"
   ]
  },
  {
   "cell_type": "markdown",
   "metadata": {},
   "source": [
    "## Exercise 6: Diversity\n",
    "Will be calculated on the board"
   ]
  }
 ],
 "metadata": {
  "kernelspec": {
   "display_name": "Python 3.8.10 64-bit",
   "language": "python",
   "name": "python3"
  },
  "language_info": {
   "codemirror_mode": {
    "name": "ipython",
    "version": 3
   },
   "file_extension": ".py",
   "mimetype": "text/x-python",
   "name": "python",
   "nbconvert_exporter": "python",
   "pygments_lexer": "ipython3",
   "version": "3.8.10"
  },
  "orig_nbformat": 4,
  "vscode": {
   "interpreter": {
    "hash": "31f2aee4e71d21fbe5cf8b01ff0e069b9275f58929596ceb00d14d90e3e16cd6"
   }
  }
 },
 "nbformat": 4,
 "nbformat_minor": 2
}
